{
  "nbformat": 4,
  "nbformat_minor": 0,
  "metadata": {
    "colab": {
      "name": "Untitled0.ipynb",
      "provenance": [],
      "collapsed_sections": []
    },
    "kernelspec": {
      "name": "python3",
      "display_name": "Python 3"
    }
  },
  "cells": [
    {
      "cell_type": "markdown",
      "metadata": {
        "id": "TD5EjRQwfxfA"
      },
      "source": [
        "**Classifying Iris Species**\n",
        "\n",
        "What will be done through this code will be to create a machine learning model of the different species of iris that are already known so that the species can be predicted for a new iris.\n",
        "\n",
        "*The first thing to do is add a basic data set:*"
      ]
    },
    {
      "cell_type": "code",
      "metadata": {
        "id": "TSwD-EGab69q"
      },
      "source": [
        "from sklearn.datasets import load_iris\n",
        "iris_dataset = load_iris()"
      ],
      "execution_count": 21,
      "outputs": []
    },
    {
      "cell_type": "code",
      "metadata": {
        "id": "CXXMaZYEfgz4",
        "outputId": "c4603274-0bab-487d-e520-b9716532ba07",
        "colab": {
          "base_uri": "https://localhost:8080/",
          "height": 51
        }
      },
      "source": [
        "print(\"Keys of iris_dataset: \\n{}\".format(iris_dataset.keys())) #Once the dataset is run, it returns keys and values:"
      ],
      "execution_count": 22,
      "outputs": [
        {
          "output_type": "stream",
          "text": [
            "Keys of iris_dataset: \n",
            "dict_keys(['data', 'target', 'target_names', 'DESCR', 'feature_names', 'filename'])\n"
          ],
          "name": "stdout"
        }
      ]
    },
    {
      "cell_type": "code",
      "metadata": {
        "id": "i8cBWU8Ug1Ze",
        "outputId": "9f43b905-12c2-4e70-f645-ce0692e53f72",
        "colab": {
          "base_uri": "https://localhost:8080/",
          "height": 187
        }
      },
      "source": [
        "print(iris_dataset['DESCR'][:193] + \"\\n...\") #The key 'DESCR' contains a short description of the entire dataset"
      ],
      "execution_count": 23,
      "outputs": [
        {
          "output_type": "stream",
          "text": [
            ".. _iris_dataset:\n",
            "\n",
            "Iris plants dataset\n",
            "--------------------\n",
            "\n",
            "**Data Set Characteristics:**\n",
            "\n",
            "    :Number of Instances: 150 (50 in each of three classes)\n",
            "    :Number of Attributes: 4 numeric, pre\n",
            "...\n"
          ],
          "name": "stdout"
        }
      ]
    },
    {
      "cell_type": "code",
      "metadata": {
        "id": "P6eH6QPUg3jd",
        "outputId": "0e5cfe94-caf9-4cdf-bf35-98362ed24d5d",
        "colab": {
          "base_uri": "https://localhost:8080/",
          "height": 34
        }
      },
      "source": [
        "print(\"Target names: {}\".format(iris_dataset['target_names'])) #In target_names are the flower species that we want to predict"
      ],
      "execution_count": 24,
      "outputs": [
        {
          "output_type": "stream",
          "text": [
            "Target names: ['setosa' 'versicolor' 'virginica']\n"
          ],
          "name": "stdout"
        }
      ]
    },
    {
      "cell_type": "code",
      "metadata": {
        "id": "2qxB30qrg_Hi",
        "outputId": "94fb2900-029d-481a-c633-f11c247b466a",
        "colab": {
          "base_uri": "https://localhost:8080/",
          "height": 51
        }
      },
      "source": [
        "print(\"Feature names: \\n{}\".format(iris_dataset['feature_names'])) #This shows a description of features"
      ],
      "execution_count": 25,
      "outputs": [
        {
          "output_type": "stream",
          "text": [
            "Feature names: \n",
            "['sepal length (cm)', 'sepal width (cm)', 'petal length (cm)', 'petal width (cm)']\n"
          ],
          "name": "stdout"
        }
      ]
    },
    {
      "cell_type": "code",
      "metadata": {
        "id": "DICH1uGahDpg",
        "outputId": "c7da842d-6677-464a-bba1-48d7eb32e099",
        "colab": {
          "base_uri": "https://localhost:8080/",
          "height": 34
        }
      },
      "source": [
        "print(\"Type of data: {}\".format(type(iris_dataset['data']))) #The data obtained is within the data fields, which are details of the petals in this case"
      ],
      "execution_count": 26,
      "outputs": [
        {
          "output_type": "stream",
          "text": [
            "Type of data: <class 'numpy.ndarray'>\n"
          ],
          "name": "stdout"
        }
      ]
    },
    {
      "cell_type": "code",
      "metadata": {
        "id": "RwMH3mEbhEQY",
        "outputId": "9c0ef15f-5a40-4e6e-d956-c9817b0b57a8",
        "colab": {
          "base_uri": "https://localhost:8080/",
          "height": 34
        }
      },
      "source": [
        "print(\"Shape of data: {}\".format(iris_dataset['data'].shape)) #The number of flowers obtained and the measurements that were taken for each flower are shown"
      ],
      "execution_count": 27,
      "outputs": [
        {
          "output_type": "stream",
          "text": [
            "Shape of data: (150, 4)\n"
          ],
          "name": "stdout"
        }
      ]
    },
    {
      "cell_type": "code",
      "metadata": {
        "id": "sxuQZixShIzr",
        "outputId": "8d4314c9-a967-4dd9-b01e-bed21c164796",
        "colab": {
          "base_uri": "https://localhost:8080/",
          "height": 119
        }
      },
      "source": [
        "print(\"First five columns of data:\\n{}\".format(iris_dataset['data'][:5])) #The measurements of each flower obtained are shown"
      ],
      "execution_count": 28,
      "outputs": [
        {
          "output_type": "stream",
          "text": [
            "First five columns of data:\n",
            "[[5.1 3.5 1.4 0.2]\n",
            " [4.9 3.  1.4 0.2]\n",
            " [4.7 3.2 1.3 0.2]\n",
            " [4.6 3.1 1.5 0.2]\n",
            " [5.  3.6 1.4 0.2]]\n"
          ],
          "name": "stdout"
        }
      ]
    },
    {
      "cell_type": "code",
      "metadata": {
        "id": "zqGyPFrGhLQt",
        "outputId": "23c2446d-efaa-4262-bbda-a1c22772ee6b",
        "colab": {
          "base_uri": "https://localhost:8080/",
          "height": 34
        }
      },
      "source": [
        "print(\"Type of target: {}\".format(type(iris_dataset['target']))) #The target contains the species of each flower that was measured"
      ],
      "execution_count": 29,
      "outputs": [
        {
          "output_type": "stream",
          "text": [
            "Type of target: <class 'numpy.ndarray'>\n"
          ],
          "name": "stdout"
        }
      ]
    },
    {
      "cell_type": "code",
      "metadata": {
        "id": "5ugyUh_NhO1w",
        "outputId": "1ce0d883-acc5-485a-aca3-8328b9624430",
        "colab": {
          "base_uri": "https://localhost:8080/",
          "height": 34
        }
      },
      "source": [
        "print(\"Shape of target: {}\".format(iris_dataset['target'].shape)) #Show the shape of the target"
      ],
      "execution_count": 30,
      "outputs": [
        {
          "output_type": "stream",
          "text": [
            "Shape of target: (150,)\n"
          ],
          "name": "stdout"
        }
      ]
    },
    {
      "cell_type": "code",
      "metadata": {
        "id": "VpbmPJs1hRkQ",
        "outputId": "f19dbb91-41e7-4e73-e157-505236e9e6cb",
        "colab": {
          "base_uri": "https://localhost:8080/",
          "height": 119
        }
      },
      "source": [
        "print(\"Target:\\n{}\".format(iris_dataset['target'])) #species are coded"
      ],
      "execution_count": 31,
      "outputs": [
        {
          "output_type": "stream",
          "text": [
            "Target:\n",
            "[0 0 0 0 0 0 0 0 0 0 0 0 0 0 0 0 0 0 0 0 0 0 0 0 0 0 0 0 0 0 0 0 0 0 0 0 0\n",
            " 0 0 0 0 0 0 0 0 0 0 0 0 0 1 1 1 1 1 1 1 1 1 1 1 1 1 1 1 1 1 1 1 1 1 1 1 1\n",
            " 1 1 1 1 1 1 1 1 1 1 1 1 1 1 1 1 1 1 1 1 1 1 1 1 1 1 2 2 2 2 2 2 2 2 2 2 2\n",
            " 2 2 2 2 2 2 2 2 2 2 2 2 2 2 2 2 2 2 2 2 2 2 2 2 2 2 2 2 2 2 2 2 2 2 2 2 2\n",
            " 2 2]\n"
          ],
          "name": "stdout"
        }
      ]
    },
    {
      "cell_type": "markdown",
      "metadata": {
        "id": "8EmgPZ_sykW1"
      },
      "source": [
        "So far the machine has been provided with data for its training but we still need to make sure that the machine works really well to make predictions of what we want. We cannot check its operation by providing data that you have already stored because obviously you would do it well because you already know the data. In this case we need new data that is not stored in the dataset. These new data that we will introduce are called test data\n",
        "\n",
        "The **train_test_split** function mixes the data set and divides it into two parts. This function extracts 75% of the data as the training data set and the other 25% extracts it as the test data set.\n",
        "\n",
        "To really show us if our program works well, different data must be taken from each section that was generated (classes)\n",
        "\n",
        "Through the **train_test_split** function and **random_state**, the data is shuffled and it is ensured that repeating this test process several times will obtain accurate results."
      ]
    },
    {
      "cell_type": "code",
      "metadata": {
        "id": "LFkMFlKjhVLk"
      },
      "source": [
        "from sklearn.model_selection import train_test_split\n",
        "X_train, X_test, y_train, y_test = train_test_split(\n",
        "iris_dataset['data'], iris_dataset['target'], random_state=0)"
      ],
      "execution_count": 32,
      "outputs": []
    },
    {
      "cell_type": "code",
      "metadata": {
        "id": "X7EhvkKuhWNX",
        "outputId": "e407f74a-6bab-4f10-b494-e4b7b9a097b0",
        "colab": {
          "base_uri": "https://localhost:8080/",
          "height": 51
        }
      },
      "source": [
        "print(\"X_train shape: {}\".format(X_train.shape))\n",
        "print(\"y_train shape: {}\".format(y_train.shape))"
      ],
      "execution_count": 33,
      "outputs": [
        {
          "output_type": "stream",
          "text": [
            "X_train shape: (112, 4)\n",
            "y_train shape: (112,)\n"
          ],
          "name": "stdout"
        }
      ]
    },
    {
      "cell_type": "code",
      "metadata": {
        "id": "P3Ji7udJhj7L",
        "outputId": "e63b69b9-7972-4e8a-dd7b-872b0d0379ec",
        "colab": {
          "base_uri": "https://localhost:8080/",
          "height": 51
        }
      },
      "source": [
        "print(\"X_test shape: {}\".format(X_test.shape))\n",
        "print(\"y_test shape: {}\".format(y_test.shape))"
      ],
      "execution_count": 34,
      "outputs": [
        {
          "output_type": "stream",
          "text": [
            "X_test shape: (38, 4)\n",
            "y_test shape: (38,)\n"
          ],
          "name": "stdout"
        }
      ]
    },
    {
      "cell_type": "markdown",
      "metadata": {
        "id": "OBl0LX5s9yKi"
      },
      "source": [
        "Before continuing with the process of creating machine learning, it is necessary to inspect the data, that is, the information, since characteristics are usually provided that are not included in the data set. This analysis is performed through scatter plots"
      ]
    },
    {
      "cell_type": "code",
      "metadata": {
        "id": "fKZGcUT0hs0s",
        "outputId": "73c5439d-a2e9-4fe9-ce9d-d5a066d1cb06",
        "colab": {
          "base_uri": "https://localhost:8080/",
          "height": 197
        }
      },
      "source": [
        "iris_dataframe = pd.DataFrame(X_train, columns=iris_dataset.feature_names)\n",
        "grr = pd.scatter_matrix(iris_dataframe, c=y_train, figsize=(15, 15), marker='o',\n",
        "hist_kwds={'bins': 20}, s=60, alpha=.8, cmap=mglearn.cm3)"
      ],
      "execution_count": 43,
      "outputs": [
        {
          "output_type": "error",
          "ename": "AttributeError",
          "evalue": "ignored",
          "traceback": [
            "\u001b[0;31m---------------------------------------------------------------------------\u001b[0m",
            "\u001b[0;31mAttributeError\u001b[0m                            Traceback (most recent call last)",
            "\u001b[0;32m<ipython-input-43-5a295c08beb1>\u001b[0m in \u001b[0;36m<module>\u001b[0;34m()\u001b[0m\n\u001b[1;32m      1\u001b[0m \u001b[0miris_dataframe\u001b[0m \u001b[0;34m=\u001b[0m \u001b[0mpd\u001b[0m\u001b[0;34m.\u001b[0m\u001b[0mDataFrame\u001b[0m\u001b[0;34m(\u001b[0m\u001b[0mX_train\u001b[0m\u001b[0;34m,\u001b[0m \u001b[0mcolumns\u001b[0m\u001b[0;34m=\u001b[0m\u001b[0miris_dataset\u001b[0m\u001b[0;34m.\u001b[0m\u001b[0mfeature_names\u001b[0m\u001b[0;34m)\u001b[0m\u001b[0;34m\u001b[0m\u001b[0;34m\u001b[0m\u001b[0m\n\u001b[0;32m----> 2\u001b[0;31m grr = pd.scatter_matrix(iris_dataframe, c=y_train, figsize=(15, 15), marker='o',\n\u001b[0m\u001b[1;32m      3\u001b[0m hist_kwds={'bins': 20}, s=60, alpha=.8, cmap=mglearn.cm3)\n",
            "\u001b[0;31mAttributeError\u001b[0m: module 'pandas' has no attribute 'scatter_matrix'"
          ]
        }
      ]
    },
    {
      "cell_type": "markdown",
      "metadata": {
        "id": "Nwuo2e6qBE7p"
      },
      "source": [
        "Now a classification of algorithms will be made to build the machine learning model. To make a prediction for a new data point, the algorithm\n",
        "finds the point in the training set that is closest to the new point. Then assign the label this training point to the new data point."
      ]
    },
    {
      "cell_type": "code",
      "metadata": {
        "id": "8_Fb3FXKh14M"
      },
      "source": [
        "from sklearn.neighbors import KNeighborsClassifier\n",
        "knn = KNeighborsClassifier(n_neighbors=1)"
      ],
      "execution_count": 36,
      "outputs": []
    },
    {
      "cell_type": "code",
      "metadata": {
        "id": "1BwAurUwh2i_",
        "outputId": "e18a2f35-4ec4-4332-bc56-fba19f817587",
        "colab": {
          "base_uri": "https://localhost:8080/",
          "height": 68
        }
      },
      "source": [
        "knn.fit(X_train, y_train)"
      ],
      "execution_count": 37,
      "outputs": [
        {
          "output_type": "execute_result",
          "data": {
            "text/plain": [
              "KNeighborsClassifier(algorithm='auto', leaf_size=30, metric='minkowski',\n",
              "                     metric_params=None, n_jobs=None, n_neighbors=1, p=2,\n",
              "                     weights='uniform')"
            ]
          },
          "metadata": {
            "tags": []
          },
          "execution_count": 37
        }
      ]
    },
    {
      "cell_type": "markdown",
      "metadata": {
        "id": "wmtTvCumB7Fo"
      },
      "source": [
        "Now we could make predictions using this model on new data for which they do not have correct labels."
      ]
    },
    {
      "cell_type": "code",
      "metadata": {
        "id": "beEPrai9h60C",
        "outputId": "c6bd7778-4845-4da1-d0a2-fbaef7223c79",
        "colab": {
          "base_uri": "https://localhost:8080/",
          "height": 34
        }
      },
      "source": [
        "X_new = np.array([[5, 2.9, 1, 0.2]])\n",
        "print(\"X_new.shape: {}\".format(X_new.shape))"
      ],
      "execution_count": 38,
      "outputs": [
        {
          "output_type": "stream",
          "text": [
            "X_new.shape: (1, 4)\n"
          ],
          "name": "stdout"
        }
      ]
    },
    {
      "cell_type": "code",
      "metadata": {
        "id": "EmG_dNx6h-Qd",
        "outputId": "dc367016-6d9e-4309-d5a2-bd57795094df",
        "colab": {
          "base_uri": "https://localhost:8080/",
          "height": 51
        }
      },
      "source": [
        "prediction = knn.predict(X_new)\n",
        "print(\"Prediction: {}\".format(prediction))\n",
        "print(\"Predicted target name: {}\".format(\n",
        "iris_dataset['target_names'][prediction]))"
      ],
      "execution_count": 39,
      "outputs": [
        {
          "output_type": "stream",
          "text": [
            "Prediction: [0]\n",
            "Predicted target name: ['setosa']\n"
          ],
          "name": "stdout"
        }
      ]
    },
    {
      "cell_type": "markdown",
      "metadata": {
        "id": "0kYDlTyHD2Px"
      },
      "source": [
        "Now you can measure the accuracy of the model to predict the flower for the correct species"
      ]
    },
    {
      "cell_type": "code",
      "metadata": {
        "id": "CUJqgARZiBVi",
        "outputId": "7cd4a397-6c1a-4228-ccea-b3ac40e01039",
        "colab": {
          "base_uri": "https://localhost:8080/",
          "height": 68
        }
      },
      "source": [
        "y_pred = knn.predict(X_test)\n",
        "print(\"Test set predictions:\\n {}\".format(y_pred))"
      ],
      "execution_count": 40,
      "outputs": [
        {
          "output_type": "stream",
          "text": [
            "Test set predictions:\n",
            " [2 1 0 2 0 2 0 1 1 1 2 1 1 1 1 0 1 1 0 0 2 1 0 0 2 0 0 1 1 0 2 1 0 2 2 1 0\n",
            " 2]\n"
          ],
          "name": "stdout"
        }
      ]
    },
    {
      "cell_type": "code",
      "metadata": {
        "id": "ezPZbJ4yiKLk",
        "outputId": "3405ad24-50d6-4b27-cd54-2f8ef69b0dfe",
        "colab": {
          "base_uri": "https://localhost:8080/",
          "height": 34
        }
      },
      "source": [
        "print(\"Test set score: {:.2f}\".format(np.mean(y_pred == y_test)))"
      ],
      "execution_count": 41,
      "outputs": [
        {
          "output_type": "stream",
          "text": [
            "Test set score: 0.97\n"
          ],
          "name": "stdout"
        }
      ]
    },
    {
      "cell_type": "code",
      "metadata": {
        "id": "wTSWowQKiKtK",
        "outputId": "0ba90403-23e0-4a44-c1d9-4572c1fe67bb",
        "colab": {
          "base_uri": "https://localhost:8080/",
          "height": 34
        }
      },
      "source": [
        "print(\"Test set score: {:.2f}\".format(knn.score(X_test, y_test)))"
      ],
      "execution_count": 42,
      "outputs": [
        {
          "output_type": "stream",
          "text": [
            "Test set score: 0.97\n"
          ],
          "name": "stdout"
        }
      ]
    },
    {
      "cell_type": "markdown",
      "metadata": {
        "id": "O0KMlPUPHCjC"
      },
      "source": [
        "**Source**\n",
        "\n",
        "Müller, A. C., &amp; Guido, S. (2016). *Introduction to machine learning with Python: A Guide for Data Scientists*. Bejing: Oreilly et Associates."
      ]
    }
  ]
}